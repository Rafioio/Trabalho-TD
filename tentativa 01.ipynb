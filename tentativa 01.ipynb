{
 "cells": [
  {
   "cell_type": "markdown",
   "metadata": {},
   "source": [
    "# Teoria da Decisão - ELE088\n",
    "\n",
    "*Alunos:*  \n",
    "\n",
    "*Guilherme Fachinelli*\n",
    "\n",
    "*Rafael Campello Soares*\n",
    "\n",
    "*Stéphanie Barbosa*  \n",
    "\n",
    "*Universidade Federal de Minas Gerais* "
   ]
  },
  {
   "cell_type": "code",
   "execution_count": null,
   "metadata": {},
   "outputs": [],
   "source": [
    "'''\n",
    "Importa os módulos usados\n",
    "'''\n",
    "import numpy as np\n",
    "import matplotlib.pyplot as plt\n",
    "import pandas as pd\n",
    "\n",
    "class Struct:\n",
    "    pass\n",
    "\n",
    "def wrap_struct(solution):\n",
    "    x = Struct()\n",
    "    x.solution = solution\n",
    "    return x\n"
   ]
  },
  {
   "cell_type": "code",
   "execution_count": 204,
   "metadata": {},
   "outputs": [
    {
     "data": {
      "text/plain": [
       "'\\nprint(\"Equipamentos:\")\\nprint(Equipamentos.head(), \"\\n\")\\nprint(\"Planos de Manutenção:\")\\nprint(Planos.head(), \"\\n\")\\nprint(\"Modelos de Falha (Weibull):\")\\nprint(ModeloFalha.head())\\n'"
      ]
     },
     "execution_count": 204,
     "metadata": {},
     "output_type": "execute_result"
    }
   ],
   "source": [
    "# Leitura dos dados\n",
    "path_equip = 'Dados/EquipDB.csv'\n",
    "path_planos = 'Dados/MPDB.csv'\n",
    "path_cluster = 'Dados/ClusterDB.csv'\n",
    "\n",
    "Equipamentos = pd.read_csv(path_equip, header=None, names=[\"ID\", \"t0\", \"cluster\", \"custo de falha\"])\n",
    "Planos = pd.read_csv(path_planos, header=None, names=[\"ID\", \"k\", \"custo\"])\n",
    "ModeloFalha = pd.read_csv(path_cluster, header=None, names=[\"ID\", \"eta\", \"beta\"])\n",
    "\n",
    "custo_por_plano = Planos.set_index(\"ID\")[\"custo\"].to_dict()\n",
    "'''\n",
    "print(\"Equipamentos:\")\n",
    "print(Equipamentos.head(), \"\\n\")\n",
    "print(\"Planos de Manutenção:\")\n",
    "print(Planos.head(), \"\\n\")\n",
    "print(\"Modelos de Falha (Weibull):\")\n",
    "print(ModeloFalha.head())\n",
    "'''\n"
   ]
  },
  {
   "cell_type": "code",
   "execution_count": 205,
   "metadata": {},
   "outputs": [
    {
     "data": {
      "text/plain": [
       "'\\nprint(\"Primeiros 10 planos atribuídos:\", solucao_padrao[:10])\\nprint(\"Distribuição dos planos:\", dict(zip(*np.unique(solucao_padrao, return_counts=True))))\\n'"
      ]
     },
     "execution_count": 205,
     "metadata": {},
     "output_type": "execute_result"
    }
   ],
   "source": [
    "#Solução inicial aleatoria\n",
    "\n",
    "def Sol_Inicial(equipamentos):\n",
    "    return np.random.randint(2, 3, size=len(equipamentos))\n",
    "\n",
    "solucao_padrao = Sol_Inicial(Equipamentos)\n",
    "'''\n",
    "print(\"Primeiros 10 planos atribuídos:\", solucao_padrao[:10])\n",
    "print(\"Distribuição dos planos:\", dict(zip(*np.unique(solucao_padrao, return_counts=True))))\n",
    "'''"
   ]
  },
  {
   "cell_type": "code",
   "execution_count": 206,
   "metadata": {},
   "outputs": [],
   "source": [
    "def manutencao_def(equipamentos, planos):\n",
    "    dados = Struct()\n",
    "    dados.equipamentos = equipamentos\n",
    "    dados.planos = planos.set_index(\"ID\")\n",
    "    dados.modelo_falha = ModeloFalha.set_index(\"ID\")\n",
    "    dados.n = len(equipamentos)\n",
    "    dados.custo_por_plano = dados.planos[\"custo\"].to_dict()\n",
    "    return dados\n"
   ]
  },
  {
   "cell_type": "code",
   "execution_count": 207,
   "metadata": {},
   "outputs": [],
   "source": [
    "def fobj_f1(x, dados):\n",
    "    custo_total = sum(dados.custo_por_plano[plano] for plano in x.solution)\n",
    "    x.fitness = custo_total\n",
    "    return x"
   ]
  },
  {
   "cell_type": "code",
   "execution_count": 208,
   "metadata": {},
   "outputs": [],
   "source": [
    "def fobj_f2(x, dados):\n",
    "    custo_total = 0\n",
    "    for i, plano in enumerate(x.solution):\n",
    "        eq = dados.equipamentos.iloc[i]\n",
    "        cluster = dados.modelo_falha.loc[eq[\"cluster\"]]\n",
    "        plano_info = dados.planos.loc[plano]\n",
    "\n",
    "        t0 = eq[\"t0\"]\n",
    "        k = plano_info[\"k\"]\n",
    "        delta_t = 5\n",
    "        eta = cluster[\"eta\"]\n",
    "        beta = cluster[\"beta\"]\n",
    "\n",
    "        Fi = lambda t: 1 - np.exp(-(t / eta)**beta)\n",
    "        pi = (Fi(t0 + k * delta_t) - Fi(t0)) / (1 - Fi(t0))\n",
    "        custo_total += pi * eq[\"custo de falha\"]\n",
    "\n",
    "    x.fitness = custo_total\n",
    "    return x\n"
   ]
  },
  {
   "cell_type": "code",
   "execution_count": 209,
   "metadata": {},
   "outputs": [],
   "source": [
    "'''\n",
    "Implementa a função neighborhoodChange\n",
    "'''\n",
    "def neighborhoodChange(x, y, k):\n",
    "    if y.fitness < x.fitness:\n",
    "        x = copy.deepcopy(y)\n",
    "        k = 1\n",
    "    else:\n",
    "        k += 1\n",
    "    return x, k\n"
   ]
  },
  {
   "cell_type": "code",
   "execution_count": 210,
   "metadata": {},
   "outputs": [],
   "source": [
    "'''\n",
    "Implementa a função shake\n",
    "'''\n",
    "def shake(x, k, planos=3):\n",
    "    y = copy.deepcopy(x)\n",
    "    indices = np.random.permutation(len(x.solution))[:k]\n",
    "    for idx in indices:\n",
    "        plano_atual = y.solution[idx]\n",
    "        opcoes = [p for p in range(1, planos+1) if p != plano_atual]\n",
    "        y.solution[idx] = np.random.choice(opcoes)\n",
    "    return y"
   ]
  },
  {
   "cell_type": "markdown",
   "metadata": {},
   "source": [
    "### Estrutura principal do método RVNS"
   ]
  },
  {
   "cell_type": "code",
   "execution_count": 211,
   "metadata": {},
   "outputs": [],
   "source": [
    "# -------------------------------\n",
    "# RVNS PARA O PROBLEMA DE MANUTENÇÃO\n",
    "# -------------------------------\n",
    "\n",
    "def rvns(fobj, sol_inicial, shake, max_num_sol_avaliadas=10000, kmax=3):\n",
    "    x = wrap_struct(sol_inicial())\n",
    "    x = fobj(x)\n",
    "    num_sol_avaliadas = 1\n",
    "    historico = []\n",
    "    historico.append(x.fitness)\n",
    "    best = copy.deepcopy(x)\n",
    "    historico_best = []\n",
    "    historico_best.append(best.fitness)\n",
    "\n",
    "    while num_sol_avaliadas < max_num_sol_avaliadas:\n",
    "        k = 1\n",
    "        while k <= kmax:\n",
    "            y = shake(x, k)\n",
    "            y = fobj(y)\n",
    "            num_sol_avaliadas += 1\n",
    "\n",
    "            if y.fitness < x.fitness:\n",
    "                x = copy.deepcopy(y)\n",
    "                k = 1\n",
    "            else:\n",
    "                k += 1\n",
    "\n",
    "            if x.fitness < best.fitness:\n",
    "                best = copy.deepcopy(x)\n",
    "\n",
    "            historico.append(x.fitness)\n",
    "            historico_best.append(best.fitness)\n",
    "\n",
    "    print('\\n--- SOLUÇÃO INICIAL CONSTRUÍDA ---\\n')\n",
    "    print('x = {}\\n'.format(historico[0]))\n",
    "    print('fitness(x) = {:.2f}\\n'.format(historico[0]))\n",
    "\n",
    "    print('\\n--- MELHOR SOLUÇÃO ENCONTRADA ---\\n')\n",
    "    print('x = {}\\n'.format(best.solution))\n",
    "    print('fitness(x) = {:.2f}\\n'.format(best.fitness))\n",
    "\n",
    "    plt.figure(figsize=(10, 6))\n",
    "    plt.plot(historico, label='fitness atual')\n",
    "    plt.plot(historico_best, label='melhor fitness até agora', linestyle='--')\n",
    "    plt.title(\"Evolução da qualidade da solução\")\n",
    "    plt.xlabel(\"Iterações\")\n",
    "    plt.ylabel(\"fitness(x)\")\n",
    "    plt.legend()\n",
    "    plt.grid(True)\n",
    "    plt.tight_layout()\n",
    "    plt.show()\n",
    "\n",
    "    return best, historico"
   ]
  },
  {
   "cell_type": "code",
   "execution_count": 212,
   "metadata": {},
   "outputs": [
    {
     "name": "stdout",
     "output_type": "stream",
     "text": [
      "\n",
      "--- SOLUÇÃO INICIAL CONSTRUÍDA ---\n",
      "\n",
      "x = 1435.000741604621\n",
      "\n",
      "fitness(x) = 1435.00\n",
      "\n",
      "\n",
      "--- MELHOR SOLUÇÃO ENCONTRADA ---\n",
      "\n",
      "x = [3 3 3 3 2 3 2 3 3 2 3 2 2 3 3 3 2 3 3 3 3 3 3 3 3 2 3 3 3 3 3 3 3 2 3 2 2\n",
      " 3 3 3 3 3 3 2 3 3 3 3 2 3 3 3 2 2 2 3 3 3 2 1 2 2 1 3 3 3 3 3 3 3 3 1 3 3\n",
      " 3 1 2 1 3 3 2 3 3 2 1 3 3 2 1 3 3 3 3 2 3 3 3 2 3 3 2 3 3 2 3 2 3 3 3 2 3\n",
      " 2 3 2 2 3 2 3 3 2 3 3 2 3 3 2 2 2 3 1 1 1 3 3 1 2 3 3 3 3 2 2 2 3 3 3 3 3\n",
      " 3 3 3 3 2 2 3 2 3 3 3 3 3 2 3 2 3 2 2 2 2 2 2 3 2 3 3 2 3 3 3 3 3 3 3 2 3\n",
      " 3 2 3 2 3 3 3 2 2 2 2 3 1 2 3 3 3 1 3 2 3 3 3 3 3 3 2 3 3 3 3 2 2 2 2 2 2\n",
      " 2 3 3 2 3 3 3 3 3 2 3 3 2 3 2 1 2 2 3 3 2 3 3 3 2 2 3 3 2 3 2 3 3 3 3 3 3\n",
      " 2 2 3 3 2 3 3 3 3 3 2 3 2 2 3 3 3 2 2 3 3 2 3 2 3 3 3 3 3 3 2 3 2 2 2 3 2\n",
      " 3 3 2 1 3 2 3 3 3 2 2 2 3 2 3 3 3 3 3 3 2 2 2 2 3 3 3 3 3 2 3 3 2 2 2 3 3\n",
      " 2 3 3 2 1 2 3 3 3 3 3 2 3 3 2 3 2 3 3 2 3 2 3 3 3 3 3 2 2 3 3 3 3 2 3 2 2\n",
      " 2 3 2 2 2 3 3 3 2 2 3 3 3 2 3 3 3 3 2 1 3 2 3 2 3 3 2 3 3 3 3 3 3 3 3 3 3\n",
      " 2 3 3 3 3 2 3 2 3 2 3 3 3 2 1 2 3 2 2 3 3 3 3 3 2 2 3 2 2 3 2 2 2 2 3 2 3\n",
      " 3 3 2 3 2 2 3 3 2 3 2 2 3 3 3 2 2 3 3 3 3 3 2 3 3 1 3 2 2 3 2 2 2 3 2 2 3\n",
      " 2 3 2 3 3 3 3 3 2 3 3 2 1 3 3 3 2 3 2]\n",
      "\n",
      "fitness(x) = 1186.03\n",
      "\n"
     ]
    },
    {
     "data": {
      "image/png": "[encoded data removed]",
      "text/plain": [
       "<Figure size 1000x600 with 1 Axes>"
      ]
     },
     "metadata": {},
     "output_type": "display_data"
    }
   ],
   "source": [
    "\n",
    "dados = manutencao_def(Equipamentos, Planos)\n",
    "\n",
    "best, historico = rvns(\n",
    "    fobj=lambda x: fobj_f2(x, dados), #troque entre fobj_f1 e fobj_f2 rodar f1 ou f2\n",
    "    sol_inicial=lambda: Sol_Inicial(Equipamentos),\n",
    "    shake=shake,\n",
    "    max_num_sol_avaliadas=1000,\n",
    "    kmax=3\n",
    ") "
   ]
  }
 ],
 "metadata": {
  "kernelspec": {
   "display_name": "base",
   "language": "python",
   "name": "python3"
  },
  "language_info": {
   "codemirror_mode": {
    "name": "ipython",
    "version": 3
   },
   "file_extension": ".py",
   "mimetype": "text/x-python",
   "name": "python",
   "nbconvert_exporter": "python",
   "pygments_lexer": "ipython3",
   "version": "3.12.7"
  }
 },
 "nbformat": 4,
 "nbformat_minor": 4
}
